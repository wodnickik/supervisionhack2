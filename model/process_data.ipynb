{
 "cells": [
  {
   "cell_type": "code",
   "execution_count": 2,
   "metadata": {},
   "outputs": [],
   "source": [
    "import shutil\n",
    "import pandas as pd\n",
    "import numpy as np\n",
    "from sklearn.model_selection import train_test_split\n",
    "\n",
    "DATA_DIR = './data/'"
   ]
  },
  {
   "attachments": {},
   "cell_type": "markdown",
   "metadata": {},
   "source": [
    "### Resnet"
   ]
  },
  {
   "cell_type": "code",
   "execution_count": 6,
   "metadata": {},
   "outputs": [],
   "source": [
    "imgs_df = pd.read_csv(DATA_DIR + 'imgs_res.csv')"
   ]
  },
  {
   "cell_type": "code",
   "execution_count": 7,
   "metadata": {},
   "outputs": [],
   "source": [
    "train_X, test_X, train_y, test_y = train_test_split(\n",
    "    imgs_df.loc[:, ['name', 'text']], imgs_df['label'], test_size=0.2, random_state=42\n",
    ")\n",
    "\n",
    "train_df = pd.concat([train_X, train_y], axis=1)\n",
    "train_df.to_csv(DATA_DIR + 'train_res.csv', index=False)\n",
    "test_df = pd.concat([test_X, test_y], axis=1)\n",
    "test_df.to_csv(DATA_DIR + 'test_res.csv', index=False)"
   ]
  },
  {
   "cell_type": "code",
   "execution_count": 8,
   "metadata": {},
   "outputs": [],
   "source": [
    "for i, row in train_df.iterrows():\n",
    "    subdir = 'bad/' if row['label'] == 1 else 'good/'\n",
    "    shutil.copy2(DATA_DIR + 'imgs_cropped/' + subdir + row['name'], DATA_DIR + 'imgs4training/train/' + subdir + row['name'])\n",
    "\n",
    "for i, row in test_df.iterrows():\n",
    "    subdir = 'bad/' if row['label'] == 1 else 'good/'\n",
    "    shutil.copy2(DATA_DIR + 'imgs_cropped/' + subdir + row['name'], DATA_DIR + 'imgs4training/test/' + subdir + row['name'])"
   ]
  },
  {
   "attachments": {},
   "cell_type": "markdown",
   "metadata": {},
   "source": [
    "### Text"
   ]
  },
  {
   "cell_type": "code",
   "execution_count": 3,
   "metadata": {},
   "outputs": [],
   "source": [
    "imgs_df = pd.read_csv('./data/imgs_text.csv')"
   ]
  },
  {
   "cell_type": "code",
   "execution_count": 4,
   "metadata": {},
   "outputs": [],
   "source": [
    "train_X, test_X, train_y, test_y = train_test_split(\n",
    "    imgs_df.loc[:, ['name', 'text']], imgs_df['label'], test_size=0.2, random_state=42\n",
    ")\n",
    "\n",
    "train_df = pd.concat([train_X, train_y], axis=1)\n",
    "train_df.to_csv(DATA_DIR + 'train_text.csv', index=False)\n",
    "test_df = pd.concat([test_X, test_y], axis=1)\n",
    "test_df.to_csv(DATA_DIR + 'test_text.csv', index=False)"
   ]
  }
 ],
 "metadata": {
  "kernelspec": {
   "display_name": "llmEnv",
   "language": "python",
   "name": "python3"
  },
  "language_info": {
   "codemirror_mode": {
    "name": "ipython",
    "version": 3
   },
   "file_extension": ".py",
   "mimetype": "text/x-python",
   "name": "python",
   "nbconvert_exporter": "python",
   "pygments_lexer": "ipython3",
   "version": "3.9.13"
  },
  "orig_nbformat": 4
 },
 "nbformat": 4,
 "nbformat_minor": 2
}
